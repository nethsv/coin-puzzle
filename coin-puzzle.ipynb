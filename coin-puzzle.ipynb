{
 "cells": [
  {
   "cell_type": "code",
   "execution_count": 151,
   "id": "ec727fcc-ba89-4f19-9068-73a91777e9f6",
   "metadata": {
    "scrolled": true
   },
   "outputs": [
    {
     "name": "stdout",
     "output_type": "stream",
     "text": [
      "Alice wins: 457\n",
      "Bob wins: 489\n",
      "Bob does better\n"
     ]
    }
   ],
   "source": [
    "import numpy as np\n",
    "from itertools import pairwise\n",
    "\n",
    "experiment = {}\n",
    "keys = list(range(1000))\n",
    "Alice_wins = 0\n",
    "Bob_wins = 0\n",
    "\n",
    "for j in keys:\n",
    "    \n",
    "    coin = np.random.binomial(n=1, p=0.5, size=100)\n",
    "    Alice_score = 0\n",
    "    Bob_score = 0\n",
    "\n",
    "    # Alice gets one point for HH\n",
    "    for x in pairwise(coin):\n",
    "        if x == (1,1): \n",
    "          Alice_score = Alice_score + 1\n",
    "\n",
    "    # Bob gets one point for HT\n",
    "    for x in pairwise(coin):\n",
    "        if x == (1,0): \n",
    "          Bob_score = Bob_score + 1\n",
    "\n",
    "    if Alice_score > Bob_score:\n",
    "        Alice_wins = Alice_wins + 1\n",
    "\n",
    "    if Bob_score > Alice_score:\n",
    "        Bob_wins = Bob_wins + 1\n",
    "\n",
    "\n",
    "print(\"Alice wins:\", Alice_wins)\n",
    "print(\"Bob wins:\", Bob_wins)\n",
    "\n",
    "if Alice_wins > Bob_wins:\n",
    "    print(\"Alice does better\")\n",
    "\n",
    "if Bob_wins > Alice_wins:\n",
    "    print(\"Bob does better\")"
   ]
  },
  {
   "cell_type": "code",
   "execution_count": null,
   "id": "b8138b02-1575-430f-9cca-f489b2bb1cf5",
   "metadata": {},
   "outputs": [],
   "source": []
  }
 ],
 "metadata": {
  "kernelspec": {
   "display_name": "Python 3 (ipykernel)",
   "language": "python",
   "name": "python3"
  },
  "language_info": {
   "codemirror_mode": {
    "name": "ipython",
    "version": 3
   },
   "file_extension": ".py",
   "mimetype": "text/x-python",
   "name": "python",
   "nbconvert_exporter": "python",
   "pygments_lexer": "ipython3",
   "version": "3.10.6"
  }
 },
 "nbformat": 4,
 "nbformat_minor": 5
}
