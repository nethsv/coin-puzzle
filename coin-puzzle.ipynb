{
 "cells": [
  {
   "cell_type": "code",
   "execution_count": 14,
   "id": "ec727fcc-ba89-4f19-9068-73a91777e9f6",
   "metadata": {
    "scrolled": true
   },
   "outputs": [
    {
     "name": "stdout",
     "output_type": "stream",
     "text": [
      "Alice wins: 449\n",
      "Bob wins: 497\n",
      "Bob does better\n",
      "Alice's average score: 24.682\n",
      "Bob's average score: 24.83\n",
      "Variance of Alice's score: 28.680876\n",
      "Variance of Bob's score: 6.7531\n",
      "Alice's average margin: 10.0\n",
      "Bob's average margin: 9.0\n"
     ]
    }
   ],
   "source": [
    "import numpy as np\n",
    "from itertools import pairwise\n",
    "\n",
    "experiment = {}\n",
    "keys = list(range(1000))\n",
    "Alice_wins = 0\n",
    "Bob_wins = 0\n",
    "Alice_scores = []\n",
    "Bob_scores = []\n",
    "Alice_margins = []\n",
    "Bob_margins = []\n",
    "\n",
    "for j in keys:\n",
    "    \n",
    "    coin = np.random.binomial(n=1, p=0.5, size=100)\n",
    "    Bob_score = 0\n",
    "    Alice_score = 0\n",
    "\n",
    "    # Alice gets one point for HH\n",
    "    for x in pairwise(coin):\n",
    "        if x == (1,1): \n",
    "          Alice_score = Alice_score + 1\n",
    "\n",
    "    # Bob gets one point for HT\n",
    "    for x in pairwise(coin):\n",
    "        if x == (1,0): \n",
    "          Bob_score = Bob_score + 1\n",
    "    \n",
    "    if Alice_score > Bob_score:\n",
    "        Alice_wins = Alice_wins + 1\n",
    "        Alice_margin = Alice_score - Bob_score\n",
    "        Alice_margins.append(Alice_margin)\n",
    "\n",
    "    if Bob_score > Alice_score:\n",
    "        Bob_wins = Bob_wins + 1\n",
    "        Bob_margin = Bob_score - Alice_score\n",
    "        Bob_margins.append(Bob_margin)\n",
    "\n",
    "    Alice_scores.append(Alice_score)\n",
    "    Bob_scores.append(Bob_score)\n",
    "\n",
    "print(\"Alice wins:\", Alice_wins)\n",
    "print(\"Bob wins:\", Bob_wins)\n",
    "\n",
    "if Alice_wins > Bob_wins:\n",
    "    print(\"Alice does better\")\n",
    "\n",
    "if Bob_wins > Alice_wins:\n",
    "    print(\"Bob does better\")\n",
    "\n",
    "print(\"Alice's average score:\", np.mean(Alice_scores))\n",
    "print(\"Bob's average score:\", np.mean(Bob_scores))\n",
    "print(\"Variance of Alice's score:\", np.var(Alice_scores))\n",
    "print(\"Variance of Bob's score:\", np.var(Bob_scores))\n",
    "print(\"Alice's average margin:\", np.mean(Alice_margin))\n",
    "print(\"Bob's average margin:\", np.mean(Bob_margin))\n"
   ]
  },
  {
   "cell_type": "code",
   "execution_count": null,
   "id": "7447e91d-6526-4191-9788-3157506f9bfa",
   "metadata": {},
   "outputs": [],
   "source": []
  }
 ],
 "metadata": {
  "kernelspec": {
   "display_name": "Python 3 (ipykernel)",
   "language": "python",
   "name": "python3"
  },
  "language_info": {
   "codemirror_mode": {
    "name": "ipython",
    "version": 3
   },
   "file_extension": ".py",
   "mimetype": "text/x-python",
   "name": "python",
   "nbconvert_exporter": "python",
   "pygments_lexer": "ipython3",
   "version": "3.10.6"
  }
 },
 "nbformat": 4,
 "nbformat_minor": 5
}
